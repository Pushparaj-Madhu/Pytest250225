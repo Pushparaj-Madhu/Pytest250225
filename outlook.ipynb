import win32com.client

# Connect to Outlook
outlook = win32com.client.Dispatch("Outlook.Application").GetNamespace("MAPI")

# Choose the mailbox
# Replace "Your Mailbox Name" with the mailbox as it appears in Outlook (e.g., "John Doe")
mailbox = outlook.Folders["Your Mailbox Name"]

# Go to Inbox
inbox = mailbox.Folders["Inbox"]

# Go to subfolder inside Inbox
# Replace "SubfolderName" with your actual subfolder name
subfolder = inbox.Folders["SubfolderName"]

# Get messages
messages = subfolder.Items
messages.Sort("[ReceivedTime]", True)  # Sort emails by latest

# Loop through the first 10 emails as an example
for message in list(messages)[:10]:
    try:
        print("Subject:", message.Subject)
        print("From:", message.SenderName)
        print("Received:", message.ReceivedTime)
        print("Body:", message.Body[:200])  # Print first 200 chars
        print("-" * 50)
    except Exception as e:
        print("Error reading email:", e)