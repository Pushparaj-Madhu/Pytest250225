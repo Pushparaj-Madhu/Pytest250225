{
  "nbformat": 4,
  "nbformat_minor": 0,
  "metadata": {
    "colab": {
      "name": "Pandas DataFrame UltraQuick Tutorial.ipynb",
      "provenance": [],
      "private_outputs": true,
      "include_colab_link": true
    },
    "kernelspec": {
      "name": "python3",
      "display_name": "Python 3"
    }
  },
  "cells": [
    {
      "cell_type": "markdown",
      "metadata": {
        "id": "view-in-github",
        "colab_type": "text"
      },
      "source": [
        "<a href=\"https://colab.research.google.com/github/Pushparaj-Madhu/Pytest250225/blob/main/sqlAlchemySqliteDb.ipynb\" target=\"_parent\"><img src=\"https://colab.research.google.com/assets/colab-badge.svg\" alt=\"Open In Colab\"/></a>"
      ]
    },
    {
      "cell_type": "code",
      "source": [
        "from datetime import date, timedelta\n",
        "\n",
        "def get_last_4_weeks_saturday_to_friday():\n",
        "    today = date.today()\n",
        "\n",
        "    # Step 1: Find the most recent Friday before or equal to today\n",
        "    # weekday(): Mon=0, Tue=1, Wed=2, Thu=3, Fri=4, Sat=5, Sun=6\n",
        "    # We calculate offset = how many days we need to go back from today to reach last Friday\n",
        "    offset = (today.weekday() - 4) % 7\n",
        "    last_friday = today - timedelta(days=offset)\n",
        "\n",
        "    # Step 2: Build 4 weeks ending on Friday\n",
        "    weeks = []\n",
        "    for i in range(4):\n",
        "        # Each week ends on a Friday → subtract i weeks from the last Friday\n",
        "        end_date = last_friday - timedelta(weeks=i)\n",
        "\n",
        "        # Start of the week is 6 days earlier (Saturday)\n",
        "        start_date = end_date - timedelta(days=6)\n",
        "\n",
        "        # Store the week as a tuple (start, end)\n",
        "        weeks.append((start_date, end_date))\n",
        "\n",
        "    # Step 3: Reverse list so earliest week comes first\n",
        "    return list(reversed(weeks))\n",
        "\n",
        "def get_current_week_dates():\n",
        "    today = date.today()\n",
        "\n",
        "    # Step 1: Find this week's Monday\n",
        "    # weekday(): Mon=0, Tue=1, ..., Sun=6\n",
        "    monday = today - timedelta(days=today.weekday())\n",
        "\n",
        "    # Step 2: Collect dates from Monday up to today\n",
        "    week_dates = [monday + timedelta(days=i) for i in range((today - monday).days + 1)]\n",
        "\n",
        "    return week_dates\n",
        "\n",
        "if __name__ == \"__main__\":\n",
        "    for idx, (start, end) in enumerate(get_last_4_weeks_saturday_to_friday(), 1):\n",
        "        print(f\"Week {idx}: {start} to {end}\")\n",
        "\n",
        "    dates = get_current_week_dates()\n",
        "    print(\"Current week (Mon → Today):\")\n",
        "    for d in dates:\n",
        "        print(d)\n"
      ],
      "metadata": {
        "id": "NH2m5_0pYgdW"
      },
      "execution_count": null,
      "outputs": []
    }
  ]
}